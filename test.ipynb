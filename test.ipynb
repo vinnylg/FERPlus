{
 "cells": [
  {
   "cell_type": "code",
   "execution_count": 1,
   "metadata": {
    "collapsed": false
   },
   "outputs": [],
   "source": [
    "import os\n",
    "import cntk as ct\n",
    "\n",
    "from src.ferplus import FERPlusReader, FERPlusParameters\n",
    "from src.models import *"
   ]
  },
  {
   "cell_type": "code",
   "execution_count": 2,
   "metadata": {
    "collapsed": true
   },
   "outputs": [],
   "source": [
    "def cost_func(training_mode, prediction, target):\n",
    "    '''\n",
    "    We use cross entropy in most mode, except for the multi-label mode, which require treating\n",
    "    multiple labels exactly the same.\n",
    "    '''\n",
    "    train_loss = None\n",
    "    if training_mode == 'majority' or training_mode == 'probability' or training_mode == 'crossentropy': \n",
    "        # Cross Entropy.\n",
    "        train_loss = ct.negate(ct.reduce_sum(ct.element_times(target, ct.log(prediction)), axis=-1))\n",
    "    elif training_mode == 'multi_target':\n",
    "        train_loss = ct.negate(ct.log(ct.reduce_max(ct.element_times(target, prediction), axis=-1)))\n",
    "\n",
    "    return train_loss"
   ]
  },
  {
   "cell_type": "code",
   "execution_count": 3,
   "metadata": {
    "collapsed": true
   },
   "outputs": [],
   "source": [
    "def binarizar_array(array):\n",
    "    max_index = np.argmax(array)  # Encontra o índice do valor máximo\n",
    "    binarizado = np.zeros_like(array)  # Cria um array com zeros do mesmo tamanho que o array de entrada\n",
    "    binarizado[max_index] = 1  # Define o valor 1 na posição do valor máximo\n",
    "    return binarizado"
   ]
  },
  {
   "cell_type": "code",
   "execution_count": 4,
   "metadata": {
    "collapsed": true
   },
   "outputs": [],
   "source": [
    "# parametros\n",
    "model_name='VGG13'\n",
    "\n",
    "training_mode = \"majority\"\n",
    "base_folder = 'data'\n",
    "\n",
    "test_folders  = ['FER2013Test']"
   ]
  },
  {
   "cell_type": "code",
   "execution_count": 5,
   "metadata": {
    "collapsed": true
   },
   "outputs": [],
   "source": [
    "# folders\n",
    "output_model_path   = os.path.join(base_folder, R'models')\n",
    "output_model_folder = os.path.join(output_model_path, model_name + '_' + training_mode)\n",
    "\n",
    "if not os.path.exists(output_model_folder):\n",
    "    os.makedirs(output_model_folder)"
   ]
  },
  {
   "cell_type": "code",
   "execution_count": 6,
   "metadata": {
    "collapsed": true
   },
   "outputs": [],
   "source": [
    "emotion_table = {'neutral'  : 0, \n",
    "                 'happiness': 1, \n",
    "                 'surprise' : 2, \n",
    "                 'sadness'  : 3, \n",
    "                 'anger'    : 4, \n",
    "                 'disgust'  : 5, \n",
    "                 'fear'     : 6, \n",
    "                 'contempt' : 7}\n",
    "\n",
    "num_classes = len(emotion_table)"
   ]
  },
  {
   "cell_type": "code",
   "execution_count": 7,
   "metadata": {
    "collapsed": false
   },
   "outputs": [],
   "source": [
    "# leitura do modelo\n",
    "model = build_model(num_classes, model_name)"
   ]
  },
  {
   "cell_type": "code",
   "execution_count": 8,
   "metadata": {
    "collapsed": true
   },
   "outputs": [],
   "source": [
    "# set the input variables.\n",
    "input_var = ct.input((1, model.input_height, model.input_width), np.float32)\n",
    "label_var = ct.input((num_classes), np.float32)"
   ]
  },
  {
   "cell_type": "code",
   "execution_count": 9,
   "metadata": {
    "collapsed": false
   },
   "outputs": [],
   "source": [
    "# training_mode interfere nos labels, fazendo com que seja 0 e 1 ou entre 0 e 1.\n",
    "# por algum motivo, no test_and_val_params ele está estatico em 'majatory'\n",
    "test_and_val_params = FERPlusParameters(num_classes, model.input_height, model.input_width, training_mode, True)\n",
    "# test_and_val_params = FERPlusParameters(num_classes, model.input_height, model.input_width, \"majority\", True)\n",
    "test_data_reader = FERPlusReader.create(base_folder, test_folders, \"label.csv\", test_and_val_params)"
   ]
  },
  {
   "cell_type": "code",
   "execution_count": 10,
   "metadata": {
    "collapsed": false
   },
   "outputs": [],
   "source": [
    "epoch_size = test_data_reader.size()\n",
    "minibatch_size = 32"
   ]
  },
  {
   "cell_type": "code",
   "execution_count": 11,
   "metadata": {
    "collapsed": true
   },
   "outputs": [],
   "source": [
    "# get the probalistic output of the model.\n",
    "z    = model.model(input_var)\n",
    "pred = ct.softmax(z)"
   ]
  },
  {
   "cell_type": "code",
   "execution_count": 12,
   "metadata": {
    "collapsed": false
   },
   "outputs": [],
   "source": [
    "# Training config\n",
    "lr_per_minibatch       = [model.learning_rate]*20 + [model.learning_rate / 2.0]*20 + [model.learning_rate / 10.0]\n",
    "mm_time_constant       = -minibatch_size/np.log(0.9)\n",
    "lr_schedule            = ct.learning_rate_schedule(lr_per_minibatch, unit=ct.UnitType.minibatch, epoch_size=epoch_size)\n",
    "mm_schedule            = ct.momentum_as_time_constant_schedule(mm_time_constant)\n",
    "\n",
    "# loss and error cost\n",
    "train_loss = cost_func(training_mode, pred, label_var)\n",
    "pe         = ct.classification_error(z, label_var)"
   ]
  },
  {
   "cell_type": "code",
   "execution_count": 13,
   "metadata": {
    "collapsed": false
   },
   "outputs": [
    {
     "data": {
      "text/plain": [
       "0"
      ]
     },
     "execution_count": 13,
     "metadata": {},
     "output_type": "execute_result"
    }
   ],
   "source": [
    "# construct the trainer\n",
    "learner = ct.momentum_sgd(z.parameters, lr_schedule, mm_schedule)\n",
    "trainer = ct.Trainer(z, (train_loss, pe), learner)\n",
    "trainer.total_number_of_samples_seen"
   ]
  },
  {
   "cell_type": "code",
   "execution_count": 14,
   "metadata": {
    "collapsed": false
   },
   "outputs": [
    {
     "name": "stdout",
     "output_type": "stream",
     "text": [
      "data/models/VGG13_majority/model_80\n"
     ]
    },
    {
     "data": {
      "text/plain": [
       "2028645"
      ]
     },
     "execution_count": 14,
     "metadata": {},
     "output_type": "execute_result"
    }
   ],
   "source": [
    "best_epoch = 80\n",
    "print(os.path.join(output_model_folder, \"model_{}\".format(best_epoch)))\n",
    "trainer.restore_from_checkpoint(os.path.join(output_model_folder, \"model_{}\".format(best_epoch)))\n",
    "trainer.total_number_of_samples_seen"
   ]
  },
  {
   "cell_type": "code",
   "execution_count": 15,
   "metadata": {
    "collapsed": false
   },
   "outputs": [],
   "source": [
    "true_labels_batch = []\n",
    "y_predicts_batch = []\n",
    "\n",
    "while test_data_reader.has_more():\n",
    "    images, labels, current_batch_size = test_data_reader.next_minibatch(minibatch_size)\n",
    "    true_labels_batch.append(labels)\n",
    "    y_predicts_batch.append(trainer.model.eval({input_var: images}))"
   ]
  },
  {
   "cell_type": "code",
   "execution_count": 16,
   "metadata": {
    "collapsed": false
   },
   "outputs": [
    {
     "data": {
      "text/plain": [
       "(3137, 8)"
      ]
     },
     "execution_count": 16,
     "metadata": {},
     "output_type": "execute_result"
    }
   ],
   "source": [
    "true_labels = np.concatenate(true_labels_batch, axis=0)\n",
    "true_labels.shape"
   ]
  },
  {
   "cell_type": "code",
   "execution_count": 17,
   "metadata": {
    "collapsed": false
   },
   "outputs": [
    {
     "data": {
      "text/plain": [
       "(3137, 8)"
      ]
     },
     "execution_count": 17,
     "metadata": {},
     "output_type": "execute_result"
    }
   ],
   "source": [
    "y_predicts = np.concatenate(y_predicts_batch, axis=0)\n",
    "y_predicts.shape"
   ]
  },
  {
   "cell_type": "code",
   "execution_count": 18,
   "metadata": {
    "collapsed": false
   },
   "outputs": [
    {
     "data": {
      "text/plain": [
       "array([[ 1.,  0.,  0., ...,  0.,  0.,  0.],\n",
       "       [ 0.,  0.,  0., ...,  0.,  0.,  0.],\n",
       "       [ 0.,  1.,  0., ...,  0.,  0.,  0.],\n",
       "       ..., \n",
       "       [ 0.,  1.,  0., ...,  0.,  0.,  0.],\n",
       "       [ 0.,  1.,  0., ...,  0.,  0.,  0.],\n",
       "       [ 0.,  1.,  0., ...,  0.,  0.,  0.]], dtype=float32)"
      ]
     },
     "execution_count": 18,
     "metadata": {},
     "output_type": "execute_result"
    }
   ],
   "source": [
    "true_labels"
   ]
  },
  {
   "cell_type": "code",
   "execution_count": 19,
   "metadata": {
    "collapsed": false
   },
   "outputs": [
    {
     "data": {
      "text/plain": [
       "array([[  5.18589878,  -0.47918698,  -4.85144663, ...,   0.75687623,\n",
       "         -4.6952939 ,   2.55302906],\n",
       "       [  5.80026007,   0.03826645,  -5.3946991 , ...,  -1.62808061,\n",
       "         -4.59390116,  -0.2849265 ],\n",
       "       [ -2.16070414,   9.9881382 ,   3.40021968, ...,  -3.99011946,\n",
       "         -0.90389687,  -3.14976597],\n",
       "       ..., \n",
       "       [  7.6844635 ,   7.68678284,  -2.67586732, ...,  -4.2151227 ,\n",
       "         -5.42998028,   3.21308613],\n",
       "       [ -4.86283588,  18.04737282,   1.03866386, ...,  -4.47006512,\n",
       "         -3.56063461,  -3.897048  ],\n",
       "       [ -3.79545736,   8.92692375,   4.41546392, ...,  -3.92081785,\n",
       "          2.10619664,  -2.31982589]], dtype=float32)"
      ]
     },
     "execution_count": 19,
     "metadata": {},
     "output_type": "execute_result"
    }
   ],
   "source": [
    "y_predicts"
   ]
  },
  {
   "cell_type": "code",
   "execution_count": 20,
   "metadata": {
    "collapsed": false
   },
   "outputs": [
    {
     "data": {
      "text/plain": [
       "array([[ 1.,  0.,  0., ...,  0.,  0.,  0.],\n",
       "       [ 0.,  0.,  0., ...,  0.,  0.,  0.],\n",
       "       [ 0.,  1.,  0., ...,  0.,  0.,  0.],\n",
       "       ..., \n",
       "       [ 0.,  1.,  0., ...,  0.,  0.,  0.],\n",
       "       [ 0.,  1.,  0., ...,  0.,  0.,  0.],\n",
       "       [ 0.,  1.,  0., ...,  0.,  0.,  0.]], dtype=float32)"
      ]
     },
     "execution_count": 20,
     "metadata": {},
     "output_type": "execute_result"
    }
   ],
   "source": [
    "y_predicts_bin = np.array([ binarizar_array(arr) for arr in y_predicts ])\n",
    "y_predicts_bin"
   ]
  },
  {
   "cell_type": "code",
   "execution_count": null,
   "metadata": {
    "collapsed": true
   },
   "outputs": [],
   "source": []
  }
 ],
 "metadata": {
  "anaconda-cloud": {},
  "kernelspec": {
   "display_name": "Python [Root]",
   "language": "python",
   "name": "Python [Root]"
  },
  "language_info": {
   "codemirror_mode": {
    "name": "ipython",
    "version": 3
   },
   "file_extension": ".py",
   "mimetype": "text/x-python",
   "name": "python",
   "nbconvert_exporter": "python",
   "pygments_lexer": "ipython3",
   "version": "3.5.2"
  }
 },
 "nbformat": 4,
 "nbformat_minor": 0
}
