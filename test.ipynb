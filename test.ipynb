{
 "cells": [
  {
   "cell_type": "code",
   "execution_count": 1,
   "metadata": {
    "collapsed": false
   },
   "outputs": [],
   "source": [
    "import os\n",
    "import cntk as ct\n",
    "\n",
    "from src.ferplus import FERPlusReader, FERPlusParameters\n",
    "from src.models import *"
   ]
  },
  {
   "cell_type": "code",
   "execution_count": 2,
   "metadata": {
    "collapsed": true
   },
   "outputs": [],
   "source": [
    "def cost_func(training_mode, prediction, target):\n",
    "    '''\n",
    "    We use cross entropy in most mode, except for the multi-label mode, which require treating\n",
    "    multiple labels exactly the same.\n",
    "    '''\n",
    "    train_loss = None\n",
    "    if training_mode == 'majority' or training_mode == 'probability' or training_mode == 'crossentropy': \n",
    "        # Cross Entropy.\n",
    "        train_loss = ct.negate(ct.reduce_sum(ct.element_times(target, ct.log(prediction)), axis=-1))\n",
    "    elif training_mode == 'multi_target':\n",
    "        train_loss = ct.negate(ct.log(ct.reduce_max(ct.element_times(target, prediction), axis=-1)))\n",
    "\n",
    "    return train_loss"
   ]
  },
  {
   "cell_type": "code",
   "execution_count": 3,
   "metadata": {
    "collapsed": true
   },
   "outputs": [],
   "source": [
    "# maior valor seta para 1, demais seta 0\n",
    "def binarizar_array(array):\n",
    "    max_index = np.argmax(array)  \n",
    "    binarizado = np.zeros_like(array)  \n",
    "    binarizado[max_index] = 1\n",
    "    return binarizado"
   ]
  },
  {
   "cell_type": "code",
   "execution_count": 4,
   "metadata": {
    "collapsed": true
   },
   "outputs": [],
   "source": [
    "## parametros\n",
    "model_name='VGG13'\n",
    "\n",
    "base_folder = 'data'\n",
    "test_folders  = ['FER2013Test']\n",
    "\n",
    "# training_mode, best_epoch = (\"majority\",80)\n",
    "# training_mode, best_epoch = (\"probability\",78)\n",
    "# training_mode, best_epoch = (\"crossentropy\",98)\n",
    "training_mode, best_epoch = (\"multi_target\",89)"
   ]
  },
  {
   "cell_type": "code",
   "execution_count": 5,
   "metadata": {
    "collapsed": true
   },
   "outputs": [],
   "source": [
    "## folders models\n",
    "output_model_path   = os.path.join(base_folder, R'models')\n",
    "output_model_folder = os.path.join(output_model_path, model_name + '_' + training_mode)\n",
    "\n",
    "if not os.path.exists(output_model_folder):\n",
    "    os.makedirs(output_model_folder)"
   ]
  },
  {
   "cell_type": "code",
   "execution_count": 6,
   "metadata": {
    "collapsed": true
   },
   "outputs": [],
   "source": [
    "## folders tests\n",
    "output_test_path   = os.path.join(base_folder, R'tests')\n",
    "output_test_folder = os.path.join(output_test_path, model_name + '_' + training_mode)\n",
    "\n",
    "if not os.path.exists(output_test_folder):\n",
    "    os.makedirs(output_test_folder)"
   ]
  },
  {
   "cell_type": "code",
   "execution_count": 7,
   "metadata": {
    "collapsed": false
   },
   "outputs": [],
   "source": [
    "emotion_table = {'neutral'  : 0, \n",
    "                 'happiness': 1, \n",
    "                 'surprise' : 2, \n",
    "                 'sadness'  : 3, \n",
    "                 'anger'    : 4, \n",
    "                 'disgust'  : 5, \n",
    "                 'fear'     : 6, \n",
    "                 'contempt' : 7}\n",
    "\n",
    "emotion_labels = sorted(emotion_table, key=emotion_table.get)\n",
    "\n",
    "num_classes = len(emotion_table)"
   ]
  },
  {
   "cell_type": "code",
   "execution_count": 8,
   "metadata": {
    "collapsed": false
   },
   "outputs": [],
   "source": [
    "## leitura do modelo\n",
    "model = build_model(num_classes, model_name)"
   ]
  },
  {
   "cell_type": "code",
   "execution_count": 9,
   "metadata": {
    "collapsed": true
   },
   "outputs": [],
   "source": [
    "## set the input variables.\n",
    "input_var = ct.input((1, model.input_height, model.input_width), np.float32)\n",
    "label_var = ct.input((num_classes), np.float32)"
   ]
  },
  {
   "cell_type": "code",
   "execution_count": 10,
   "metadata": {
    "collapsed": false
   },
   "outputs": [],
   "source": [
    "## training_mode interfere nos labels, fazendo com que seja 0 e 1 ou entre 0 e 1.\n",
    "## por algum motivo, no test_and_val_params ele está estatico em 'majatory' !! DESCOBRIR MOTIVO\n",
    "## usando training_mode diferente de majority, y_true deve ser binarizado igual y_pred ( transformei max em 1 e o resto em zero)\n",
    "\n",
    "# test_and_val_params = FERPlusParameters(num_classes, model.input_height, model.input_width, \"majority\", determinisitc=True, shuffle=False)\n",
    "test_and_val_params = FERPlusParameters(num_classes, model.input_height, model.input_width, training_mode, determinisitc=True, shuffle=False)\n",
    "test_data_reader = FERPlusReader.create(base_folder, test_folders, \"label.csv\", test_and_val_params)"
   ]
  },
  {
   "cell_type": "code",
   "execution_count": 11,
   "metadata": {
    "collapsed": false
   },
   "outputs": [],
   "source": [
    "epoch_size = test_data_reader.size()\n",
    "minibatch_size = 32"
   ]
  },
  {
   "cell_type": "code",
   "execution_count": 12,
   "metadata": {
    "collapsed": true
   },
   "outputs": [],
   "source": [
    "# get the probalistic output of the model.\n",
    "z    = model.model(input_var)\n",
    "pred = ct.softmax(z)"
   ]
  },
  {
   "cell_type": "code",
   "execution_count": 13,
   "metadata": {
    "collapsed": false
   },
   "outputs": [],
   "source": [
    "# Training config\n",
    "lr_per_minibatch       = [model.learning_rate]*20 + [model.learning_rate / 2.0]*20 + [model.learning_rate / 10.0]\n",
    "mm_time_constant       = -minibatch_size/np.log(0.9)\n",
    "lr_schedule            = ct.learning_rate_schedule(lr_per_minibatch, unit=ct.UnitType.minibatch, epoch_size=epoch_size)\n",
    "mm_schedule            = ct.momentum_as_time_constant_schedule(mm_time_constant)\n",
    "\n",
    "# loss and error cost\n",
    "train_loss = cost_func(training_mode, pred, label_var)\n",
    "pe         = ct.classification_error(z, label_var)"
   ]
  },
  {
   "cell_type": "code",
   "execution_count": 14,
   "metadata": {
    "collapsed": false
   },
   "outputs": [
    {
     "data": {
      "text/plain": [
       "0"
      ]
     },
     "execution_count": 14,
     "metadata": {},
     "output_type": "execute_result"
    }
   ],
   "source": [
    "# construct the trainer\n",
    "learner = ct.momentum_sgd(z.parameters, lr_schedule, mm_schedule)\n",
    "trainer = ct.Trainer(z, (train_loss, pe), learner)\n",
    "trainer.total_number_of_samples_seen"
   ]
  },
  {
   "cell_type": "code",
   "execution_count": 15,
   "metadata": {
    "collapsed": false
   },
   "outputs": [
    {
     "name": "stdout",
     "output_type": "stream",
     "text": [
      "data/models/VGG13_multi_target/model_89\n"
     ]
    },
    {
     "data": {
      "text/plain": [
       "2490030"
      ]
     },
     "execution_count": 15,
     "metadata": {},
     "output_type": "execute_result"
    }
   ],
   "source": [
    "print(os.path.join(output_model_folder, \"model_{}\".format(best_epoch)))\n",
    "trainer.restore_from_checkpoint(os.path.join(output_model_folder, \"model_{}\".format(best_epoch)))\n",
    "trainer.total_number_of_samples_seen"
   ]
  },
  {
   "cell_type": "code",
   "execution_count": 16,
   "metadata": {
    "collapsed": false
   },
   "outputs": [],
   "source": [
    "y_true_batch = []\n",
    "y_pred_batch = []\n",
    "\n",
    "while test_data_reader.has_more():\n",
    "    images, labels, current_batch_size = test_data_reader.next_minibatch(minibatch_size)\n",
    "    y_true_batch.append(labels)\n",
    "    y_pred_batch.append(trainer.model.eval({input_var: images}))"
   ]
  },
  {
   "cell_type": "code",
   "execution_count": 17,
   "metadata": {
    "collapsed": false
   },
   "outputs": [
    {
     "data": {
      "text/plain": [
       "(3466, 8)"
      ]
     },
     "execution_count": 17,
     "metadata": {},
     "output_type": "execute_result"
    }
   ],
   "source": [
    "y_true = np.concatenate(y_true_batch, axis=0)\n",
    "y_true.shape"
   ]
  },
  {
   "cell_type": "code",
   "execution_count": 18,
   "metadata": {
    "collapsed": false
   },
   "outputs": [
    {
     "data": {
      "text/plain": [
       "(3466, 8)"
      ]
     },
     "execution_count": 18,
     "metadata": {},
     "output_type": "execute_result"
    }
   ],
   "source": [
    "y_pred = np.concatenate(y_pred_batch, axis=0)\n",
    "y_pred.shape"
   ]
  },
  {
   "cell_type": "code",
   "execution_count": 19,
   "metadata": {
    "collapsed": false
   },
   "outputs": [
    {
     "data": {
      "text/plain": [
       "array([[ 0.001,  0.001,  0.001, ...,  0.001,  0.001,  1.   ],\n",
       "       [ 1.   ,  0.001,  0.001, ...,  0.001,  0.001,  0.001],\n",
       "       [ 1.   ,  0.001,  0.001, ...,  0.001,  0.001,  0.001],\n",
       "       ..., \n",
       "       [ 0.001,  0.001,  0.001, ...,  0.001,  0.001,  0.001],\n",
       "       [ 0.001,  1.   ,  0.001, ...,  0.001,  0.001,  0.001],\n",
       "       [ 1.   ,  0.001,  0.001, ...,  0.001,  0.001,  0.001]], dtype=float32)"
      ]
     },
     "execution_count": 19,
     "metadata": {},
     "output_type": "execute_result"
    }
   ],
   "source": [
    "y_true"
   ]
  },
  {
   "cell_type": "code",
   "execution_count": 20,
   "metadata": {
    "collapsed": false
   },
   "outputs": [
    {
     "data": {
      "text/plain": [
       "array([[ 0.,  0.,  0., ...,  0.,  0.,  1.],\n",
       "       [ 1.,  0.,  0., ...,  0.,  0.,  0.],\n",
       "       [ 1.,  0.,  0., ...,  0.,  0.,  0.],\n",
       "       ..., \n",
       "       [ 0.,  0.,  0., ...,  0.,  0.,  0.],\n",
       "       [ 0.,  1.,  0., ...,  0.,  0.,  0.],\n",
       "       [ 1.,  0.,  0., ...,  0.,  0.,  0.]], dtype=float32)"
      ]
     },
     "execution_count": 20,
     "metadata": {},
     "output_type": "execute_result"
    }
   ],
   "source": [
    "y_true_bin = np.array([ binarizar_array(arr) for arr in y_true ])\n",
    "y_true_bin"
   ]
  },
  {
   "cell_type": "code",
   "execution_count": 21,
   "metadata": {
    "collapsed": false
   },
   "outputs": [
    {
     "data": {
      "text/plain": [
       "array([[  6.55176115,  -4.96301508,  -0.84649754, ...,  -1.88809967,\n",
       "         -3.55828691,   1.69767296],\n",
       "       [  8.81030273,  -3.67780232,  -3.33396411, ...,  -3.07839966,\n",
       "         -6.03207159,   0.80377328],\n",
       "       [  7.82557154,  -4.08956671,   0.24173436, ...,  -3.77943754,\n",
       "         -4.00930405,   0.87448514],\n",
       "       ..., \n",
       "       [  4.05337334,  -1.37536943,   0.64318717, ...,  -1.74678755,\n",
       "         -2.04518104,  -0.75132573],\n",
       "       [ -0.90338624,  12.91828537,  -0.38926336, ...,  -4.92607498,\n",
       "         -3.65607572,  -4.16153336],\n",
       "       [  7.26770306,  -6.34903049,  -4.62837315, ...,  -1.13939333,\n",
       "         -4.59666681,   2.85757732]], dtype=float32)"
      ]
     },
     "execution_count": 21,
     "metadata": {},
     "output_type": "execute_result"
    }
   ],
   "source": [
    "y_pred"
   ]
  },
  {
   "cell_type": "code",
   "execution_count": 22,
   "metadata": {
    "collapsed": false
   },
   "outputs": [
    {
     "data": {
      "text/plain": [
       "array([[ 1.,  0.,  0., ...,  0.,  0.,  0.],\n",
       "       [ 1.,  0.,  0., ...,  0.,  0.,  0.],\n",
       "       [ 1.,  0.,  0., ...,  0.,  0.,  0.],\n",
       "       ..., \n",
       "       [ 1.,  0.,  0., ...,  0.,  0.,  0.],\n",
       "       [ 0.,  1.,  0., ...,  0.,  0.,  0.],\n",
       "       [ 1.,  0.,  0., ...,  0.,  0.,  0.]], dtype=float32)"
      ]
     },
     "execution_count": 22,
     "metadata": {},
     "output_type": "execute_result"
    }
   ],
   "source": [
    "y_pred_bin = np.array([ binarizar_array(arr) for arr in y_pred ])\n",
    "y_pred_bin"
   ]
  },
  {
   "cell_type": "code",
   "execution_count": 23,
   "metadata": {
    "collapsed": false
   },
   "outputs": [
    {
     "name": "stdout",
     "output_type": "stream",
     "text": [
      "ACC:  0.843046739758\n",
      "             precision    recall  f1-score   support\n",
      "\n",
      "    neutral       0.90      0.85      0.88      1448\n",
      "  happiness       0.92      0.92      0.92       925\n",
      "   surprise       0.79      0.88      0.83       431\n",
      "    sadness       0.63      0.65      0.64       322\n",
      "      anger       0.71      0.82      0.76       261\n",
      "    disgust       0.46      0.50      0.48        12\n",
      "       fear       0.61      0.56      0.58        54\n",
      "   contempt       0.00      0.00      0.00        13\n",
      "\n",
      "avg / total       0.84      0.84      0.84      3466\n",
      "\n",
      "cohen-kappa:  0.785315912856\n",
      "cm:\n",
      " [[1236   48   43   91   27    1    2    0]\n",
      " [  19  848   30   14   10    1    2    1]\n",
      " [  12    7  379    5   21    0    7    0]\n",
      " [  66   13    4  209   23    2    5    0]\n",
      " [  20    7    9    5  214    3    3    0]\n",
      " [   3    0    0    0    3    6    0    0]\n",
      " [   4    1   13    5    1    0   30    0]\n",
      " [   8    1    0    2    2    0    0    0]]\n"
     ]
    }
   ],
   "source": [
    "import sklearn.metrics as m\n",
    "\n",
    "y_true=y_true_bin\n",
    "y_pred=y_pred_bin\n",
    "\n",
    "print('ACC: ',m.accuracy_score(y_true, y_pred))\n",
    "print(m.classification_report(y_true, y_pred, target_names=emotion_labels))\n",
    "print('cohen-kappa: ',m.cohen_kappa_score(y_true.argmax(axis=1), y_pred.argmax(axis=1), labels=sorted(emotion_table.values())))\n",
    "print('cm:\\n', m.confusion_matrix(y_true.argmax(axis=1), y_pred.argmax(axis=1)))"
   ]
  },
  {
   "cell_type": "code",
   "execution_count": 24,
   "metadata": {
    "collapsed": false
   },
   "outputs": [
    {
     "name": "stdout",
     "output_type": "stream",
     "text": [
      "data/tests/VGG13_multi_target/test_89.npz\n"
     ]
    }
   ],
   "source": [
    "print(os.path.join(output_test_folder, \"test_{}.npz\".format(best_epoch)))\n",
    "np.savez_compressed(os.path.join(output_test_folder, \"test_{}.npz\".format(best_epoch)), y_true=y_true_bin, y_pred=y_pred_bin)"
   ]
  },
  {
   "cell_type": "code",
   "execution_count": null,
   "metadata": {
    "collapsed": true
   },
   "outputs": [],
   "source": []
  }
 ],
 "metadata": {
  "anaconda-cloud": {},
  "kernelspec": {
   "display_name": "Python [Root]",
   "language": "python",
   "name": "Python [Root]"
  },
  "language_info": {
   "codemirror_mode": {
    "name": "ipython",
    "version": 3
   },
   "file_extension": ".py",
   "mimetype": "text/x-python",
   "name": "python",
   "nbconvert_exporter": "python",
   "pygments_lexer": "ipython3",
   "version": "3.5.2"
  }
 },
 "nbformat": 4,
 "nbformat_minor": 0
}
